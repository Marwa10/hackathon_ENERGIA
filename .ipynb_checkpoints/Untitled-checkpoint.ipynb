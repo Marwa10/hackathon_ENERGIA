{
 "cells": [
  {
   "cell_type": "markdown",
   "metadata": {},
   "source": [
    "## Dates, personnes et organisation"
   ]
  },
  {
   "cell_type": "code",
   "execution_count": 167,
   "metadata": {},
   "outputs": [],
   "source": [
    "import pandas as pd\n",
    "data=pd.read_json(\"data/dgOutput1000.json\",encoding='utf-8')\n",
    "data\n",
    "\n",
    "import html\n",
    "from html import parser\n",
    "import re"
   ]
  },
  {
   "cell_type": "code",
   "execution_count": 168,
   "metadata": {
    "scrolled": true
   },
   "outputs": [],
   "source": [
    "#def clean2(Texte_Concat, accents = True):\n",
    "#    junk_space = [\\\n",
    "#                    '<[^<]+?>', '\\r\\n', '!', ',', ';', \\\n",
    "#                    '.', '?', '(', ')', '[', ']', '{', '}', '%', '*', '-', '', '•', \\\n",
    "#                    ':', '#', '€','–','>','<','«','»','+', '\"', 'n°','N°', '●', '/', \\\n",
    "#                    '►', '\\n', '=', '“', '”', '…', '→', '‹', '≥', '⋅', '○',  \\\n",
    "#                     '’', '‘', '—', '‑', 'Ø', 'Ä' \\\n",
    "#                    ]\n",
    "#    Texte_without_junk = html.parser.unescape(Texte_Concat)\n",
    "#    Texte_without_junk = re.sub('<[^<]+?>', '', Texte_without_junk)\n",
    "#\n",
    "#    for elmt in junk_space:\n",
    "#        Texte_without_junk = Texte_without_junk.replace(elmt,  ' ')\n",
    "#    return Texte_without_junk\n",
    "#data[\"text_clean2\"] = data[\"description\"].apply(clean2)"
   ]
  },
  {
   "cell_type": "code",
   "execution_count": 169,
   "metadata": {},
   "outputs": [],
   "source": [
    "import spacy\n",
    "nlp = spacy.load(\"en_core_web_sm\")"
   ]
  },
  {
   "cell_type": "code",
   "execution_count": 170,
   "metadata": {},
   "outputs": [],
   "source": [
    "import spacy\n",
    "\n",
    "vec=data[\"description\"]\n",
    "vec2=vec.to_list()\n",
    "vec2\n",
    "\n",
    "test=list()\n",
    "\n",
    "nlp = spacy.load(\"en_core_web_sm\")\n",
    "for doc in nlp.pipe(vec2, disable=[\"tagger\", \"parser\"]):\n",
    "    test.append([(ent.text, ent.label_) for ent in doc.ents])"
   ]
  },
  {
   "cell_type": "code",
   "execution_count": 171,
   "metadata": {
    "scrolled": false
   },
   "outputs": [
    {
     "data": {
      "text/plain": [
       "[('bmm', 'ORG'),\n",
       " ('project)&lt;br', 'PRODUCT'),\n",
       " ('/&gt', 'PERSON'),\n",
       " ('SNCF Voyageurs', 'PERSON'),\n",
       " ('SNCF Rseau', 'PERSON'),\n",
       " ('CDC', 'ORG'),\n",
       " ('Seine-Saint-Denis Departmental Council', 'WORK_OF_ART'),\n",
       " ('BMM', 'ORG'),\n",
       " ('three to four', 'CARDINAL'),\n",
       " ('ERP', 'ORG'),\n",
       " ('21 years.&lt;br /&gt', 'PERCENT'),\n",
       " ('no&lt;br /&gt', 'PERSON'),\n",
       " ('Time', 'ORG'),\n",
       " ('31/08/2020Local', 'CARDINAL'),\n",
       " ('width=&quot;817&quot;&gt', 'PERSON'),\n",
       " ('55200140600107)&lt;/td&gt', 'CARDINAL'),\n",
       " ('negotiation&lt;/td&gt;\\r\\n         &lt;/tr&gt', 'ORG'),\n",
       " ('negotiation&lt;/td&gt;\\r\\n         &lt;/tr&gt', 'ORG'),\n",
       " ('GPA countries&lt;/td&gt', 'ORG'),\n",
       " ('bid&lt;/td&gt;\\r\\n          &lt;td&gt;1 - Submission', 'ORG'),\n",
       " ('lots&lt;/td&gt', 'PERSON')]"
      ]
     },
     "execution_count": 171,
     "metadata": {},
     "output_type": "execute_result"
    }
   ],
   "source": [
    "test[1] # Pour le premier appel d'offre on obtient les entités nommées\n",
    "\n",
    "# Que faire avec ce format de données ? Comment réccuperer uniquement les personnes et les dates ??"
   ]
  },
  {
   "cell_type": "code",
   "execution_count": 172,
   "metadata": {},
   "outputs": [
    {
     "name": "stderr",
     "output_type": "stream",
     "text": [
      "//anaconda3/lib/python3.7/site-packages/spacy/displacy/__init__.py:94: UserWarning: [W011] It looks like you're calling displacy.serve from within a Jupyter notebook or a similar environment. This likely means you're already running a local web server, so there's no need to make displaCy start another one. Instead, you should be able to replace displacy.serve with displacy.render to show the visualization.\n",
      "  warnings.warn(Warnings.W011)\n"
     ]
    },
    {
     "data": {
      "text/html": [
       "<span class=\"tex2jax_ignore\"><!DOCTYPE html>\n",
       "<html lang=\"en\">\n",
       "    <head>\n",
       "        <title>displaCy</title>\n",
       "    </head>\n",
       "\n",
       "    <body style=\"font-size: 16px; font-family: -apple-system, BlinkMacSystemFont, 'Segoe UI', Helvetica, Arial, sans-serif, 'Apple Color Emoji', 'Segoe UI Emoji', 'Segoe UI Symbol'; padding: 4rem 2rem; direction: ltr\">\n",
       "<figure style=\"margin-bottom: 6rem\">\n",
       "<div class=\"entities\" style=\"line-height: 2.5; direction: ltr\">Contract notice: Innovation partnership for the design and manufacture of mobile and modular buildings (\n",
       "<mark class=\"entity\" style=\"background: #7aecec; padding: 0.45em 0.6em; margin: 0 0.25em; line-height: 1; border-radius: 0.35em;\">\n",
       "    bmm\n",
       "    <span style=\"font-size: 0.8em; font-weight: bold; line-height: 1; border-radius: 0.35em; text-transform: uppercase; vertical-align: middle; margin-left: 0.5rem\">ORG</span>\n",
       "</mark>\n",
       ") as part of the  temporary urban roofs  project. Gathered within a public order consortium, \n",
       "<mark class=\"entity\" style=\"background: #7aecec; padding: 0.45em 0.6em; margin: 0 0.25em; line-height: 1; border-radius: 0.35em;\">\n",
       "    SICF\n",
       "    <span style=\"font-size: 0.8em; font-weight: bold; line-height: 1; border-radius: 0.35em; text-transform: uppercase; vertical-align: middle; margin-left: 0.5rem\">ORG</span>\n",
       "</mark>\n",
       ", \n",
       "<mark class=\"entity\" style=\"background: #aa9cfc; padding: 0.45em 0.6em; margin: 0 0.25em; line-height: 1; border-radius: 0.35em;\">\n",
       "    SNCF Voyageurs\n",
       "    <span style=\"font-size: 0.8em; font-weight: bold; line-height: 1; border-radius: 0.35em; text-transform: uppercase; vertical-align: middle; margin-left: 0.5rem\">PERSON</span>\n",
       "</mark>\n",
       ", \n",
       "<mark class=\"entity\" style=\"background: #aa9cfc; padding: 0.45em 0.6em; margin: 0 0.25em; line-height: 1; border-radius: 0.35em;\">\n",
       "    SNCF Rseau\n",
       "    <span style=\"font-size: 0.8em; font-weight: bold; line-height: 1; border-radius: 0.35em; text-transform: uppercase; vertical-align: middle; margin-left: 0.5rem\">PERSON</span>\n",
       "</mark>\n",
       ", the Caisse des Dpts et Consignations (\n",
       "<mark class=\"entity\" style=\"background: #7aecec; padding: 0.45em 0.6em; margin: 0 0.25em; line-height: 1; border-radius: 0.35em;\">\n",
       "    CDC\n",
       "    <span style=\"font-size: 0.8em; font-weight: bold; line-height: 1; border-radius: 0.35em; text-transform: uppercase; vertical-align: middle; margin-left: 0.5rem\">ORG</span>\n",
       "</mark>\n",
       ") and the \n",
       "<mark class=\"entity\" style=\"background: #f0d0ff; padding: 0.45em 0.6em; margin: 0 0.25em; line-height: 1; border-radius: 0.35em;\">\n",
       "    Seine-Saint-Denis Departmental Council\n",
       "    <span style=\"font-size: 0.8em; font-weight: bold; line-height: 1; border-radius: 0.35em; text-transform: uppercase; vertical-align: middle; margin-left: 0.5rem\">WORK_OF_ART</span>\n",
       "</mark>\n",
       " (CD93) wish in the framework of a partnership of innovation implement a modular mobile buildings (\n",
       "<mark class=\"entity\" style=\"background: #7aecec; padding: 0.45em 0.6em; margin: 0 0.25em; line-height: 1; border-radius: 0.35em;\">\n",
       "    BMM\n",
       "    <span style=\"font-size: 0.8em; font-weight: bold; line-height: 1; border-radius: 0.35em; text-transform: uppercase; vertical-align: middle; margin-left: 0.5rem\">ORG</span>\n",
       "</mark>\n",
       ") solution including research, innovation, prototyping, manufacturing. These buildings will be located in urban sites for short periods and must be able to be moved to another geographic location (\n",
       "<mark class=\"entity\" style=\"background: #e4e7d2; padding: 0.45em 0.6em; margin: 0 0.25em; line-height: 1; border-radius: 0.35em;\">\n",
       "    three to four\n",
       "    <span style=\"font-size: 0.8em; font-weight: bold; line-height: 1; border-radius: 0.35em; text-transform: uppercase; vertical-align: middle; margin-left: 0.5rem\">CARDINAL</span>\n",
       "</mark>\n",
       " trips). It is expected that these buildings will be able to easily change their use to mix programming (accommodation, activities, services, \n",
       "<mark class=\"entity\" style=\"background: #7aecec; padding: 0.45em 0.6em; margin: 0 0.25em; line-height: 1; border-radius: 0.35em;\">\n",
       "    ERP\n",
       "    <span style=\"font-size: 0.8em; font-weight: bold; line-height: 1; border-radius: 0.35em; text-transform: uppercase; vertical-align: middle; margin-left: 0.5rem\">ORG</span>\n",
       "</mark>\n",
       ", etc.); high use value, architectural quality comfort and energy performance. The expected lifespan of these mobile and modular buildings is \n",
       "<mark class=\"entity\" style=\"background: #bfe1d9; padding: 0.45em 0.6em; margin: 0 0.25em; line-height: 1; border-radius: 0.35em;\">\n",
       "    21 years\n",
       "    <span style=\"font-size: 0.8em; font-weight: bold; line-height: 1; border-radius: 0.35em; text-transform: uppercase; vertical-align: middle; margin-left: 0.5rem\">DATE</span>\n",
       "</mark>\n",
       ". This contract is divided into lots: Time limit for receipt of tenders or requests to participate: Date: \n",
       "<mark class=\"entity\" style=\"background: #bfe1d9; padding: 0.45em 0.6em; margin: 0 0.25em; line-height: 1; border-radius: 0.35em;\">\n",
       "    31/08/2020\n",
       "    <span style=\"font-size: 0.8em; font-weight: bold; line-height: 1; border-radius: 0.35em; text-transform: uppercase; vertical-align: middle; margin-left: 0.5rem\">DATE</span>\n",
       "</mark>\n",
       " Housing and community amenities</div>\n",
       "</figure>\n",
       "</body>\n",
       "</html></span>"
      ],
      "text/plain": [
       "<IPython.core.display.HTML object>"
      ]
     },
     "metadata": {},
     "output_type": "display_data"
    },
    {
     "name": "stdout",
     "output_type": "stream",
     "text": [
      "\n",
      "Using the 'ent' visualizer\n",
      "Serving on http://0.0.0.0:5000 ...\n",
      "\n",
      "Shutting down server on port 5000.\n"
     ]
    }
   ],
   "source": [
    "from spacy import displacy\n",
    "\n",
    "text = \"Contract notice: Innovation partnership for the design and manufacture of mobile and modular buildings (bmm) as part of the  temporary urban roofs  project. Gathered within a public order consortium, SICF, SNCF Voyageurs, SNCF Rseau, the Caisse des Dpts et Consignations (CDC) and the Seine-Saint-Denis Departmental Council (CD93) wish in the framework of a partnership of innovation implement a modular mobile buildings (BMM) solution including research, innovation, prototyping, manufacturing. These buildings will be located in urban sites for short periods and must be able to be moved to another geographic location (three to four trips). It is expected that these buildings will be able to easily change their use to mix programming (accommodation, activities, services, ERP, etc.); high use value, architectural quality comfort and energy performance. The expected lifespan of these mobile and modular buildings is 21 years. This contract is divided into lots: Time limit for receipt of tenders or requests to participate: Date: 31/08/2020 Housing and community amenities\" \n",
    "\n",
    "doc = nlp(text)\n",
    "\n",
    "\n",
    "displacy.serve(doc, style=\"ent\")\n",
    "\n",
    "#displacy.serve(nlp.pipe(vec2), style=\"ent\")"
   ]
  },
  {
   "cell_type": "code",
   "execution_count": null,
   "metadata": {},
   "outputs": [],
   "source": []
  }
 ],
 "metadata": {
  "kernelspec": {
   "display_name": "Python 3",
   "language": "python",
   "name": "python3"
  },
  "language_info": {
   "codemirror_mode": {
    "name": "ipython",
    "version": 3
   },
   "file_extension": ".py",
   "mimetype": "text/x-python",
   "name": "python",
   "nbconvert_exporter": "python",
   "pygments_lexer": "ipython3",
   "version": "3.7.3"
  }
 },
 "nbformat": 4,
 "nbformat_minor": 2
}
