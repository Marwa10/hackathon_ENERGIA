{
 "cells": [
  {
   "cell_type": "code",
   "execution_count": 57,
   "metadata": {
    "ExecuteTime": {
     "end_time": "2020-09-10T16:05:41.835977Z",
     "start_time": "2020-09-10T16:05:15.377189Z"
    }
   },
   "outputs": [
    {
     "name": "stderr",
     "output_type": "stream",
     "text": [
      "2020-09-10 18:05:16.146 | DEBUG    | flashgeotext.lookup:add:194 - cities added to pool\n",
      "2020-09-10 18:05:16.151 | DEBUG    | flashgeotext.lookup:add:194 - countries added to pool\n",
      "2020-09-10 18:05:16.152 | DEBUG    | flashgeotext.lookup:_add_demo_data:225 - demo data loaded for: ['cities', 'countries']\n"
     ]
    }
   ],
   "source": [
    "import json\n",
    "import pandas as pd\n",
    "import spacy\n",
    "import html.parser\n",
    "import re\n",
    "from flashgeotext.geotext import GeoText\n",
    "geotext = GeoText(use_demo_data=True)\n",
    "#nlpEn = spacy.load(\"en_core_web_lg\") \n",
    "nlpFR = spacy.load('fr_core_news_md')\n"
   ]
  },
  {
   "cell_type": "code",
   "execution_count": 63,
   "metadata": {
    "ExecuteTime": {
     "end_time": "2020-09-10T16:33:01.571416Z",
     "start_time": "2020-09-10T16:33:01.467693Z"
    }
   },
   "outputs": [
    {
     "data": {
      "text/plain": [
       "Index(['bidDeadlineDate', 'buyerCountry', 'buyerName', 'contactAddress',\n",
       "       'contactCity', 'contactCountry', 'contactEmail', 'contactFirstName',\n",
       "       'contactLastName', 'contactPhone', 'contactState', 'country', 'cpvs',\n",
       "       'creationDate', 'currency', 'description', 'dgmarketId',\n",
       "       'estimatedCost', 'exclusion', 'exclusionWord', 'fileSource', 'lang',\n",
       "       'noticeType', 'procurementId', 'procurementMethod', 'publicationDate',\n",
       "       'sourceUrl', 'status', 'title', 'updateDate'],\n",
       "      dtype='object')"
      ]
     },
     "execution_count": 63,
     "metadata": {},
     "output_type": "execute_result"
    }
   ],
   "source": [
    "df = pd.read_json('data/dgOutput1000.json')\n",
    "df.columns"
   ]
  },
  {
   "cell_type": "code",
   "execution_count": 59,
   "metadata": {
    "ExecuteTime": {
     "end_time": "2020-09-10T16:07:49.999271Z",
     "start_time": "2020-09-10T16:07:49.991115Z"
    }
   },
   "outputs": [],
   "source": [
    "def clean(Texte_Concat, accents = True):\n",
    "    junk_space = [\\\n",
    "                    '<[^<]+?>', '\\r\\n', '!', ',', ';', \\\n",
    "                    '.', '?', '(', ')', '[', ']', '{', '}', '%', '*', '-', '_', '•', \\\n",
    "                    ':', '#', '€','–','>','<','«','»','+', '\"', 'n°','N°', '●', '/', \\\n",
    "                    '►', '\\n', '=', '“', '”', '…', '→', '‹', '≥', '⋅', '○',  \\\n",
    "                     '’', '‘', '—', '‑', 'Ø', 'Ä' \\\n",
    "                    ]\n",
    "    Texte_without_junk = html.parser.unescape(Texte_Concat)\n",
    "    Texte_without_junk = re.sub('<[^<]+?>', '', Texte_without_junk)\n",
    "\n",
    "    for elmt in junk_space:\n",
    "        Texte_without_junk = Texte_without_junk.replace(elmt,  ' ')\n",
    "    return Texte_without_junk"
   ]
  },
  {
   "cell_type": "code",
   "execution_count": 60,
   "metadata": {
    "ExecuteTime": {
     "end_time": "2020-09-10T16:07:51.993657Z",
     "start_time": "2020-09-10T16:07:51.712514Z"
    }
   },
   "outputs": [],
   "source": [
    "df[\"text_clean\"] = df[\"description\"].apply(clean)"
   ]
  },
  {
   "cell_type": "code",
   "execution_count": 61,
   "metadata": {
    "ExecuteTime": {
     "end_time": "2020-09-10T16:07:53.691633Z",
     "start_time": "2020-09-10T16:07:53.685587Z"
    }
   },
   "outputs": [
    {
     "data": {
      "text/plain": [
       "\"Contract notice  Hosting of the is of the anact aract network     The service includes  hosting and monitoring of physical environments and production and pre production software  operations management  supervision  backups  restorations  archiving  data security  incident resolution  co  administration of certain elements of the technical infrastructure  supply of materials necessary for the performance of the contract  associated services  advice  technical support and engineering     This contract is divided into lots  no    Deadline for receipt of tenders or requests to participate  September 18  2020   5 00 pm    Language  s  official  s  of the EU  French    Avis No 20 100581     publié le 09 08 2020      Dépt    69 Anact departement finance gestion      Hébergement du SI du réseau Anact Aract       Avis de marché  Procédure Ouverte               Références complètes&nbsp        Avis  20 100581                Référence de TED        non disponible                 Annonce                       Département s  de publication   69Annonce No 20 100581I II III IV VI AVIS DE MARCHÉDirective 2014 24 UELe présent avis constitue un appel à la concurrence Section I   Pouvoir adjudicateur                                      I 1            NOM ET ADRESSES                               ANACT Département Finance Gestion  Numéro national d'identification   180 037 012 00051  192 avenue Thiers  Point s  de contact   Mme Lamborot Delphine  69457  Lyon Cedex 06  F  Téléphone     33  4 72 56 13 68  Courriel   d lamborot anact fr   Fax     33  4 72 56 13 77  Code NUTS   FRK26                                Adresse s  internet   Adresse principale   http   www anact fr  Adresse du profil acheteur   https   www achatpublic com sdm ent gen ent detail do PCSLID CSL 2020 B8HOgrFBKt&amp v 1&amp selected 0                                I 2            PROCÉDURE CONJOINTE                               I 3            COMMUNICATION                               Les documents du marché sont disponibles gratuitement en accès direct non restreint et complet  à l'adresse   https   www achatpublic com sdm ent gen ent detail do PCSLID CSL 2020 B8HOgrFBKt&amp v 1&amp selected 0                                Adresse à laquelle des informations complémentaires peuvent être obtenues  le ou les point s  de contact susmentionné s                                Les offres ou les demandes de participation doivent être envoyées   par voie électronique à l'adresse   https   www achatpublic com sdm ent gen ent detail do PCSLID CSL 2020 B8HOgrFBKt&amp v 1&amp selected 0 au x  point s  de contact susmentionné s                                I 4            TYPE DE POUVOIR ADJUDICATEUR                               Agence office national e  ou fédéral e                                I 5            ACTIVITÉ PRINCIPALE                               Services généraux des administrations publiques                            Section II   Objet                                      II 1            ÉTENDUE DU MARCHÉ                               II 1 1            Intitulé   Hébergement du SI du réseau Anact Aract                     \""
      ]
     },
     "execution_count": 61,
     "metadata": {},
     "output_type": "execute_result"
    }
   ],
   "source": []
  },
  {
   "cell_type": "code",
   "execution_count": null,
   "metadata": {
    "ExecuteTime": {
     "end_time": "2020-09-10T15:21:40.635632Z",
     "start_time": "2020-09-10T15:21:40.631512Z"
    }
   },
   "outputs": [],
   "source": [
    "#geoRes = geotext.extract(input_text= test, span_info=True)[\"cities\"]\n",
    "#geoRes\n",
    "def traitement(x):\n",
    "    cities = geotext.extract(input_text= x, span_info=True)[\"cities\"]\n",
    "    return(cities)\n",
    "df['cities'] = df['description'].apply(traitement)"
   ]
  },
  {
   "cell_type": "code",
   "execution_count": null,
   "metadata": {
    "ExecuteTime": {
     "end_time": "2020-09-10T15:22:45.137843Z",
     "start_time": "2020-09-10T15:22:45.088581Z"
    }
   },
   "outputs": [],
   "source": [
    "df['cities'] "
   ]
  },
  {
   "cell_type": "code",
   "execution_count": null,
   "metadata": {
    "ExecuteTime": {
     "end_time": "2020-09-10T14:39:19.822363Z",
     "start_time": "2020-09-10T14:39:19.816272Z"
    }
   },
   "outputs": [],
   "source": [
    "### que des données en français \n",
    "d[\"lang\"].unique()"
   ]
  },
  {
   "cell_type": "code",
   "execution_count": 62,
   "metadata": {
    "ExecuteTime": {
     "end_time": "2020-09-10T16:08:11.799324Z",
     "start_time": "2020-09-10T16:08:11.692325Z"
    }
   },
   "outputs": [
    {
     "name": "stdout",
     "output_type": "stream",
     "text": [
      "Contract MISC\n",
      "Hosting of the is of the anact aract network      MISC\n",
      "The service includes  hosting and monitoring of physical environments and production and pre production software  operations management   MISC\n",
      "This contract is divided into lots MISC\n",
      "no    Deadline for receipt of tenders or requests to participate ORG\n",
      "September 18 MISC\n",
      "Language  s  official  s  of the EU MISC\n",
      "French    Avis MISC\n",
      "Dépt     MISC\n",
      "Anact Aract PER\n",
      "Avis de marché   MISC\n",
      "TED         MISC\n",
      "Annonce                        MISC\n",
      "Département s   ORG\n",
      "UELe MISC\n",
      "Section I    PER\n",
      "ADRESSES ORG\n",
      "Département Finance ORG\n",
      "Numéro national d'identification ORG\n",
      "Mme Lamborot Delphine PER\n",
      "Lyon LOC\n",
      "F LOC\n",
      "Adresse s   MISC\n",
      "Adresse principale   http MISC\n",
      "B8HOgrFBKt&amp v 1&amp selected 0 MISC\n",
      "Les offres ou les demandes de participation MISC\n",
      "B8HOgrFBKt&amp v 1&amp selected 0 MISC\n",
      "ADJUDICATEUR ORG\n",
      "Agence office national e   ORG\n",
      "PRINCIPALE ORG\n",
      "Services généraux des administrations publiques ORG\n",
      "Section II PER\n",
      "Objet                                      II LOC\n",
      "ÉTENDUE ORG\n",
      "MARCHÉ ORG\n",
      "Anact Aract PER\n"
     ]
    }
   ],
   "source": [
    "## entities  \n",
    "text = test\n",
    "doc = nlpFR(text)\n",
    "for entity in doc.ents:\n",
    "    print(entity.text, entity.label_)"
   ]
  },
  {
   "cell_type": "code",
   "execution_count": null,
   "metadata": {},
   "outputs": [],
   "source": []
  }
 ],
 "metadata": {
  "hide_input": false,
  "kernelspec": {
   "display_name": "Python 3",
   "language": "python",
   "name": "python3"
  },
  "language_info": {
   "codemirror_mode": {
    "name": "ipython",
    "version": 3
   },
   "file_extension": ".py",
   "mimetype": "text/x-python",
   "name": "python",
   "nbconvert_exporter": "python",
   "pygments_lexer": "ipython3",
   "version": "3.7.3"
  },
  "toc": {
   "base_numbering": 1,
   "nav_menu": {},
   "number_sections": true,
   "sideBar": true,
   "skip_h1_title": false,
   "title_cell": "Table of Contents",
   "title_sidebar": "Contents",
   "toc_cell": false,
   "toc_position": {},
   "toc_section_display": true,
   "toc_window_display": false
  }
 },
 "nbformat": 4,
 "nbformat_minor": 2
}
