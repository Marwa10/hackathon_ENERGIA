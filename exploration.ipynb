{
 "cells": [
  {
   "cell_type": "code",
   "execution_count": 1,
   "metadata": {
    "ExecuteTime": {
     "end_time": "2020-09-10T22:02:24.323240Z",
     "start_time": "2020-09-10T22:01:49.480602Z"
    }
   },
   "outputs": [
    {
     "name": "stderr",
     "output_type": "stream",
     "text": [
      "2020-09-11 00:01:52.213 | DEBUG    | flashgeotext.lookup:add:194 - cities added to pool\n",
      "2020-09-11 00:01:52.217 | DEBUG    | flashgeotext.lookup:add:194 - countries added to pool\n",
      "2020-09-11 00:01:52.218 | DEBUG    | flashgeotext.lookup:_add_demo_data:225 - demo data loaded for: ['cities', 'countries']\n"
     ]
    }
   ],
   "source": [
    "import json\n",
    "import pandas as pd\n",
    "import spacy\n",
    "import html.parser\n",
    "import re\n",
    "from flashgeotext.geotext import GeoText\n",
    "geotext = GeoText(use_demo_data=True)\n",
    "\n",
    "nlpEn = spacy.load(\"en_core_web_lg\") \n",
    "nlpFR = spacy.load('fr_core_news_md')\n",
    "nlpsm = spacy.load(\"en_core_web_sm\")\n",
    "nlpMulti = spacy.load(\"xx_ent_wiki_sm\") "
   ]
  },
  {
   "cell_type": "code",
   "execution_count": 2,
   "metadata": {
    "ExecuteTime": {
     "end_time": "2020-09-10T22:02:24.330614Z",
     "start_time": "2020-09-10T22:02:24.326126Z"
    }
   },
   "outputs": [],
   "source": [
    "from spacy import displacy"
   ]
  },
  {
   "cell_type": "code",
   "execution_count": 3,
   "metadata": {
    "ExecuteTime": {
     "end_time": "2020-09-10T22:02:24.431168Z",
     "start_time": "2020-09-10T22:02:24.332995Z"
    }
   },
   "outputs": [
    {
     "data": {
      "text/plain": [
       "Index(['bidDeadlineDate', 'buyerCountry', 'buyerName', 'contactAddress',\n",
       "       'contactCity', 'contactCountry', 'contactEmail', 'contactFirstName',\n",
       "       'contactLastName', 'contactPhone', 'contactState', 'country', 'cpvs',\n",
       "       'creationDate', 'currency', 'description', 'dgmarketId',\n",
       "       'estimatedCost', 'exclusion', 'exclusionWord', 'fileSource', 'lang',\n",
       "       'noticeType', 'procurementId', 'procurementMethod', 'publicationDate',\n",
       "       'sourceUrl', 'status', 'title', 'updateDate'],\n",
       "      dtype='object')"
      ]
     },
     "execution_count": 3,
     "metadata": {},
     "output_type": "execute_result"
    }
   ],
   "source": [
    "df = pd.read_json('data/dgOutput1000.json')\n",
    "df.columns\n"
   ]
  },
  {
   "cell_type": "code",
   "execution_count": 4,
   "metadata": {
    "ExecuteTime": {
     "end_time": "2020-09-10T22:02:24.440896Z",
     "start_time": "2020-09-10T22:02:24.433471Z"
    }
   },
   "outputs": [],
   "source": [
    "def clean(Texte_Concat, accents = True):\n",
    "    junk_space = [\\\n",
    "                    '<[^<]+?>', '\\r\\n', '!', ',', ';', '  ', '\\t'\\\n",
    "                    '.', '?', '(', ')', '[', ']', '{', '}', '%', '*', '-', '_', '•', \\\n",
    "                    ':', '#', '€','–','>','<','«','»','+', '\"', 'n°','N°', '●', '/', \\\n",
    "                    '►', '\\n', '=', '“', '”', '…', '→', '‹', '≥', '⋅', '○',  \\\n",
    "                     '’', '‘', '—', '‑', 'Ø', 'Ä' \\\n",
    "                    ]\n",
    "    Texte_without_junk = html.parser.unescape(Texte_Concat)\n",
    "    Texte_without_junk = re.sub('<[^<]+?>', '', Texte_without_junk)\n",
    "\n",
    "    for elmt in junk_space:\n",
    "        Texte_without_junk = Texte_without_junk.replace(elmt,  ' ')\n",
    "    return Texte_without_junk"
   ]
  },
  {
   "cell_type": "code",
   "execution_count": 5,
   "metadata": {
    "ExecuteTime": {
     "end_time": "2020-09-10T22:02:24.792439Z",
     "start_time": "2020-09-10T22:02:24.444079Z"
    }
   },
   "outputs": [],
   "source": [
    "df[\"text_clean\"] = df[\"description\"].apply(clean)"
   ]
  },
  {
   "cell_type": "code",
   "execution_count": 6,
   "metadata": {
    "ExecuteTime": {
     "end_time": "2020-09-10T22:02:24.812052Z",
     "start_time": "2020-09-10T22:02:24.803873Z"
    }
   },
   "outputs": [
    {
     "data": {
      "text/plain": [
       "\"Contract notice  Hosting of the is of the anact aract network.  The service includes  hosting and monitoring of physical environments and production and pre production software operations management  supervision backups restorations archiving data security incident resolution co  administration of certain elements of the technical infrastructure supply of materials necessary for the performance of the contract associated services  advice technical support and engineering.  This contract is divided into lots  no  Deadline for receipt of tenders or requests to participate  September 18 2020   5 00 pm  Language  s  official  s  of the EU  French  Avis No 20 100581   publié le 09 08 2020   Dépt.   69 Anact departement finance gestion   Hébergement du SI du réseau Anact Aract.   Avis de marché Procédure Ouverte        Références complètes&nbsp     Avis  20 100581        Référence de TED     non disponible         Annonce            Département s  de publication   69Annonce No 20 100581I.II.III.IV.VI.AVIS DE MARCHÉDirective 2014 24 UELe présent avis constitue un appel à la concurrence Section I   Pouvoir adjudicateur                   I.1       NOM ET ADRESSES                ANACT Département Finance Gestion Numéro national d'identification   180 037 012 00051 192 avenue Thiers Point s  de contact   Mme Lamborot Delphine 69457 Lyon Cedex 06 F Téléphone     33  4 72 56 13 68 Courriel   d.lamborot anact.fr  Fax     33  4 72 56 13 77 Code NUTS   FRK26                Adresse s  internet   Adresse principale   http   www.anact.fr Adresse du profil acheteur   https   www.achatpublic.com sdm ent gen ent detail.do PCSLID CSL 2020 B8HOgrFBKt&amp v 1&amp selected 0                I.2       PROCÉDURE CONJOINTE                I.3       COMMUNICATION                Les documents du marché sont disponibles gratuitement en accès direct non restreint et complet à l'adresse   https   www.achatpublic.com sdm ent gen ent detail.do PCSLID CSL 2020 B8HOgrFBKt&amp v 1&amp selected 0                Adresse à laquelle des informations complémentaires peuvent être obtenues  le ou les point s  de contact susmentionné s                 Les offres ou les demandes de participation doivent être envoyées   par voie électronique à l'adresse   https   www.achatpublic.com sdm ent gen ent detail.do PCSLID CSL 2020 B8HOgrFBKt&amp v 1&amp selected 0 au x  point s  de contact susmentionné s                 I.4       TYPE DE POUVOIR ADJUDICATEUR                Agence office national e  ou fédéral e                 I.5       ACTIVITÉ PRINCIPALE                Services généraux des administrations publiques              Section II   Objet                   II.1       ÉTENDUE DU MARCHÉ                II.1.1       Intitulé   Hébergement du SI du réseau Anact Aract.          \""
      ]
     },
     "execution_count": 6,
     "metadata": {},
     "output_type": "execute_result"
    }
   ],
   "source": [
    "test = df[\"text_clean\"][3]\n",
    "test"
   ]
  },
  {
   "cell_type": "code",
   "execution_count": 7,
   "metadata": {
    "ExecuteTime": {
     "end_time": "2020-09-10T22:02:27.290063Z",
     "start_time": "2020-09-10T22:02:24.823099Z"
    }
   },
   "outputs": [],
   "source": [
    "#geoRes = geotext.extract(input_text= test, span_info=True)[\"cities\"]\n",
    "#geoRes\n",
    "def traitement(x):\n",
    "    cities = geotext.extract(input_text= x, span_info=True)[\"cities\"]\n",
    "    return(cities)\n",
    "df['cities'] = df['description'].apply(traitement)"
   ]
  },
  {
   "cell_type": "code",
   "execution_count": 8,
   "metadata": {
    "ExecuteTime": {
     "end_time": "2020-09-10T22:02:27.330245Z",
     "start_time": "2020-09-10T22:02:27.294103Z"
    }
   },
   "outputs": [
    {
     "data": {
      "text/plain": [
       "0                                                     {}\n",
       "1      {'Saint-Denis': {'count': 1, 'span_info': [(33...\n",
       "2      {'Nanterre': {'count': 2, 'span_info': [(1831,...\n",
       "3      {'Lyon': {'count': 1, 'span_info': [(2301, 230...\n",
       "4      {'Nanterre': {'count': 2, 'span_info': [(2464,...\n",
       "5      {'Valenciennes': {'count': 3, 'span_info': [(2...\n",
       "6      {'Mission': {'count': 1, 'span_info': [(1297, ...\n",
       "7        {'Of': {'count': 1, 'span_info': [(112, 114)]}}\n",
       "8      {'David': {'count': 1, 'span_info': [(288, 293...\n",
       "9      {'Date': {'count': 1, 'span_info': [(880, 884)...\n",
       "10     {'Date': {'count': 1, 'span_info': [(880, 884)...\n",
       "11     {'Date': {'count': 1, 'span_info': [(880, 884)...\n",
       "12     {'Date': {'count': 1, 'span_info': [(880, 884)...\n",
       "13     {'Date': {'count': 1, 'span_info': [(880, 884)...\n",
       "14     {'Date': {'count': 1, 'span_info': [(880, 884)...\n",
       "15                                                    {}\n",
       "16                                                    {}\n",
       "17                                                    {}\n",
       "18                                                    {}\n",
       "19                                                    {}\n",
       "20                                                    {}\n",
       "21                                                    {}\n",
       "22                                                    {}\n",
       "23                                                    {}\n",
       "24                                                    {}\n",
       "25                                                    {}\n",
       "26      {'Ans': {'count': 1, 'span_info': [(234, 238)]}}\n",
       "27     {'Date': {'count': 1, 'span_info': [(369, 373)...\n",
       "28     {'Gràcia': {'count': 1, 'span_info': [(1969, 1...\n",
       "29     {'Châtenay-Malabry': {'count': 2, 'span_info':...\n",
       "                             ...                        \n",
       "970    {'Paris': {'count': 5, 'span_info': [(92, 97),...\n",
       "971    {'Toulouse': {'count': 1, 'span_info': [(1895,...\n",
       "972                                                   {}\n",
       "973    {'Versailles': {'count': 2, 'span_info': [(238...\n",
       "974    {'Paris': {'count': 3, 'span_info': [(708, 713...\n",
       "975    {'Mulhouse': {'count': 2, 'span_info': [(1919,...\n",
       "976    {'Date': {'count': 1, 'span_info': [(366, 370)...\n",
       "977    {'Of': {'count': 2, 'span_info': [(274, 276), ...\n",
       "978    {'Bordeaux': {'count': 4, 'span_info': [(1366,...\n",
       "979    {'Chambéry': {'count': 2, 'span_info': [(1379,...\n",
       "980    {'Annecy': {'count': 2, 'span_info': [(2487, 2...\n",
       "981    {'Paris': {'count': 2, 'span_info': [(102, 107...\n",
       "982    {'Mission': {'count': 2, 'span_info': [(696, 7...\n",
       "983    {'Lille': {'count': 1, 'span_info': [(2436, 24...\n",
       "984    {'Koungou': {'count': 5, 'span_info': [(1078, ...\n",
       "985    {'Rouen': {'count': 1, 'span_info': [(2509, 25...\n",
       "986    {'March': {'count': 1, 'span_info': [(1413, 14...\n",
       "987    {'Mons': {'count': 4, 'span_info': [(650, 654)...\n",
       "988    {'Schiltigheim': {'count': 2, 'span_info': [(1...\n",
       "989    {'La Defense': {'count': 1, 'span_info': [(201...\n",
       "990    {'Date': {'count': 1, 'span_info': [(1902, 190...\n",
       "991    {'Évry': {'count': 3, 'span_info': [(2648, 265...\n",
       "992    {'Grenoble': {'count': 6, 'span_info': [(800, ...\n",
       "993    {'Nanterre': {'count': 1, 'span_info': [(2322,...\n",
       "994    {'Grenoble': {'count': 4, 'span_info': [(1381,...\n",
       "995    {'Carpentras': {'count': 3, 'span_info': [(793...\n",
       "996    {'Mission': {'count': 4, 'span_info': [(17, 24...\n",
       "997    {'Mission': {'count': 3, 'span_info': [(17, 24...\n",
       "998    {'Nantes': {'count': 5, 'span_info': [(1278, 1...\n",
       "999    {'Bastia': {'count': 1, 'span_info': [(2280, 2...\n",
       "Name: cities, Length: 1000, dtype: object"
      ]
     },
     "execution_count": 8,
     "metadata": {},
     "output_type": "execute_result"
    }
   ],
   "source": [
    "df['cities'] "
   ]
  },
  {
   "cell_type": "code",
   "execution_count": 9,
   "metadata": {
    "ExecuteTime": {
     "end_time": "2020-09-10T22:02:27.340992Z",
     "start_time": "2020-09-10T22:02:27.332574Z"
    }
   },
   "outputs": [
    {
     "data": {
      "text/plain": [
       "0      Contract notice  Afc 2019 and cross cutting sk...\n",
       "1      Contract notice  Innovation partnership for th...\n",
       "2      Contract notice  Long term rental of coaches w...\n",
       "3      Contract notice  Hosting of the is of the anac...\n",
       "4      Contract notice  Supply of signaling devices a...\n",
       "5      Contract notice  Project management for rehabi...\n",
       "6      Tenders are invited for Tenants ordering manag...\n",
       "7      Tenders are invited for Creation of a graphic ...\n",
       "8      L essentiel du marché \\t\\t\\t \\tNom et adresse ...\n",
       "9                          Détail de la consultation ...\n",
       "10                         Détail de la consultation ...\n",
       "11                         Détail de la consultation ...\n",
       "12                         Détail de la consultation ...\n",
       "13                         Détail de la consultation ...\n",
       "14                         Détail de la consultation ...\n",
       "15     Électroménager et de matériel audiovisuel.Tele...\n",
       "16     Fourniture et livraison de produits d'entretie...\n",
       "17     Fourniture de dispositifs médicaux stériles co...\n",
       "18     Choix d'un prestataire de service concernant l...\n",
       "19     Exploitation du service de transport à la dema...\n",
       "20     Le présent accord cadre a pour objet de fourni...\n",
       "21     Prestations d'aide au recrutement pour des pos...\n",
       "22     Médialandes.fr   portail des médiathèques des ...\n",
       "23     Étude technique de définition d'aménagements e...\n",
       "24     L'accord cadre aura pour objet la dématérialis...\n",
       "25     L'accord cadre et les marchés subséquents qui ...\n",
       "26     L'objet du marché est la réalisation d'une mis...\n",
       "27     Procedure with negotiations  Security work at ...\n",
       "28     Contract notice  Insurance benefits  This cons...\n",
       "29     Contract notice  Acquisition of used vehicles ...\n",
       "                             ...                        \n",
       "970    Contract notice  Preventive and curative maint...\n",
       "971    Contract notice  Supply of small laboratory eq...\n",
       "972    Contract notice  Framework agreement for the s...\n",
       "973    Contract notice  Operation of heating ventilat...\n",
       "974    Contract notice  Design manufacture installati...\n",
       "975    Contract notice  Supply installation and commi...\n",
       "976    Contract notice  Ctr filters for handling equi...\n",
       "977    Contract notice  Services of maintenance and l...\n",
       "978    Contract notice  Security and health protectio...\n",
       "979    Contract notice  Insurance services for the ve...\n",
       "980    Contract notice  Acquisition implementation an...\n",
       "981    Contract notice  Project management mission fo...\n",
       "982    Contract notice  Technical assistance mission ...\n",
       "983    Contract notice  Maintenance of allegro~s it s...\n",
       "984    Contract notice  Supply and delivery of meal v...\n",
       "985    Contract notice  Development and integration s...\n",
       "986    Contract notice  Municipal building cleaning m...\n",
       "987    Contract notice  Project management for the sa...\n",
       "988    Contract notice  Supply management and deliver...\n",
       "989    Contract notice  2020 006  The purpose of this...\n",
       "990    Contract notice  Intrusion remote monitoring i...\n",
       "991    Contract notice  Supply of cap type service ti...\n",
       "992    Contract notice  Supply and maintenance of was...\n",
       "993    Contract notice  Booking platform for accommod...\n",
       "994    Contract notice  Washing upkeep and maintenanc...\n",
       "995    Contract notice  Cultural project at the htel ...\n",
       "996    Contract notice  Mission of surveyor expert fo...\n",
       "997    Contract notice  Mission of animation and meth...\n",
       "998    Contract notice  High efficiency deflection me...\n",
       "999    Contract notice  Call for applications for a f...\n",
       "Name: text_clean, Length: 1000, dtype: object"
      ]
     },
     "execution_count": 9,
     "metadata": {},
     "output_type": "execute_result"
    }
   ],
   "source": [
    "df[\"text_clean\"]"
   ]
  },
  {
   "cell_type": "code",
   "execution_count": 10,
   "metadata": {
    "ExecuteTime": {
     "end_time": "2020-09-10T22:02:37.850033Z",
     "start_time": "2020-09-10T22:02:27.343669Z"
    }
   },
   "outputs": [],
   "source": [
    "## détecter la langue du description\n",
    "from langdetect import detect\n",
    "df[\"lang_des\"] = df[\"text_clean\"].apply(detect)"
   ]
  },
  {
   "cell_type": "code",
   "execution_count": 11,
   "metadata": {
    "ExecuteTime": {
     "end_time": "2020-09-10T22:02:37.865229Z",
     "start_time": "2020-09-10T22:02:37.852179Z"
    }
   },
   "outputs": [],
   "source": [
    "offres_fr = df[df.lang_des == \"fr\"]\n",
    "offres_en = df[df.lang_des == \"en\"]"
   ]
  },
  {
   "cell_type": "code",
   "execution_count": 12,
   "metadata": {
    "ExecuteTime": {
     "end_time": "2020-09-10T22:02:37.877284Z",
     "start_time": "2020-09-10T22:02:37.868242Z"
    }
   },
   "outputs": [
    {
     "data": {
      "text/plain": [
       "\"Contract notice  Long term rental of coaches without driver  The purpose of this consultation is the long term rental of driverless coaches for the needs of municipal services.  This contract is divided into lots  no  Deadline for receipt of tenders or requests to participate  September 25 2020   4 00 pm  Language  s  official  s  of the EU  French  Avis No 20 63451   publié le 08 08 2020   Dépt.   92 Mairie de nanterre   Location longue durée d'autocars sans chauffeur   Avis de marché Procédure Ouverte        Références complètes&nbsp     Avis  20 63451        Référence de TED     non disponible         Annonce            Département s  de publication   92Annonce No 20 63451I.II.III.IV.VI.AVIS DE MARCHÉDirective 2014 24 UELe présent avis constitue un appel à la concurrence Section I   Pouvoir adjudicateur                   I.1       NOM ET ADRESSES                Mairie de Nanterre 88 110 rue du 8 mai 1945 92000 Nanterre F Courriel   service.commandepublique mairie nanterre.fr  Code NUTS   FR105                Adresse s  internet   Adresse principale   http   www.nanterre.fr Adresse du profil acheteur   https   marches.maximilien.fr  page entreprise.AccueilEntreprise                I.2       PROCÉDURE CONJOINTE                I.3       COMMUNICATION                Les documents du marché sont disponibles gratuitement en accès direct non restreint et complet à l'adresse   https   marches.maximilien.fr  page entreprise.AccueilEntreprise                Adresse à laquelle des informations complémentaires peuvent être obtenues  le ou les point s  de contact susmentionné s                 Les offres ou les demandes de participation doivent être envoyées   par voie électronique à l'adresse   https   marches.maximilien.fr  page entreprise.AccueilEntreprise                La communication électronique requiert l'utilisation d'outils et de dispositifs qui ne sont pas généralement disponibles. Un accès direct non restreint et complet à ces outils et dispositifs est possible gratuitement à l'adresse   https   marches.maximilien.fr  page entreprise.AccueilEntreprise                I.4       TYPE DE POUVOIR ADJUDICATEUR                Autorité régionale ou locale                I.5       ACTIVITÉ PRINCIPALE                Services généraux des administrations publiques              Section II   Objet                   II.1       ÉTENDUE DU MARCHÉ                II.1.1       Intitulé   Location longue durée d autocars sans chauffeur                Numéro de référence   10 2020                II.1.2       Code CPV principal        &\""
      ]
     },
     "execution_count": 12,
     "metadata": {},
     "output_type": "execute_result"
    }
   ],
   "source": [
    "#### Problème : certaines descriptions contiennent à la fois du texte en anglais et en français \n",
    "offres_fr[\"text_clean\"][2]"
   ]
  },
  {
   "cell_type": "code",
   "execution_count": 13,
   "metadata": {
    "ExecuteTime": {
     "end_time": "2020-09-10T22:02:41.896620Z",
     "start_time": "2020-09-10T22:02:37.879438Z"
    }
   },
   "outputs": [],
   "source": [
    "### texte en anglais\n",
    "vec=offres_en[\"text_clean\"]\n",
    "vec2=vec.to_list()\n",
    "vec2\n",
    "\n",
    "test=list()\n",
    "for doc in nlpsm.pipe(vec2, disable=[\"tagger\", \"parser\"]):\n",
    "    test.append([(ent.text, ent.label_) for ent in doc.ents])"
   ]
  },
  {
   "cell_type": "code",
   "execution_count": 15,
   "metadata": {
    "ExecuteTime": {
     "end_time": "2020-09-10T22:07:01.139294Z",
     "start_time": "2020-09-10T22:07:00.933218Z"
    }
   },
   "outputs": [
    {
     "name": "stdout",
     "output_type": "stream",
     "text": [
      "Contract MISC\n",
      "Supply of signaling devices and urban comfort and safety equipment   MISC\n",
      "The purpose of the contract that is the subject of this consultation is the supply of signaling devices and urban comfort and safety equipment necessary for the services of the city of nanterre MISC\n",
      "They are MISC\n",
      "It includes in particular the supply of vertical and permanent signage MISC\n",
      "This contract is divided into lots MISC\n",
      "Deadline for receipt of tenders or requests to participate MISC\n",
      "September ORG\n",
      "Language  s  official  s  of the EU MISC\n",
      "French  Avis MISC\n",
      "Dépt MISC\n",
      "Avis de marché ORG\n",
      "Avis ORG\n",
      "Référence de TED MISC\n",
      "MARCHÉDirective MISC\n",
      "UELe MISC\n",
      "Section I    PER\n",
      "ADRESSES                Mairie LOC\n",
      "Nanterre LOC\n",
      "Nanterre F LOC\n",
      "Adresse principale   http MISC\n",
      "AccueilEntreprise MISC\n",
      "I.2 MISC\n",
      "AccueilEntreprise MISC\n",
      "AccueilEntreprise ORG\n",
      "ADJUDICATEUR ORG\n",
      "Autorité régionale ORG\n",
      "I.5 MISC\n",
      "Services généraux ORG\n",
      "Section II   Objet                   II.1       ÉTENDUE ORG\n",
      "II.1.1 MISC\n",
      "Fourniture LOC\n"
     ]
    }
   ],
   "source": [
    "## texte en français\n",
    "text = offres_fr[\"text_clean\"][4]\n",
    "doc = nlpFR(text)\n",
    "for entity in doc.ents:\n",
    "    print(entity.text, entity.label_)"
   ]
  },
  {
   "cell_type": "code",
   "execution_count": 16,
   "metadata": {
    "ExecuteTime": {
     "end_time": "2020-09-10T22:07:18.965375Z",
     "start_time": "2020-09-10T22:07:03.814581Z"
    }
   },
   "outputs": [
    {
     "name": "stderr",
     "output_type": "stream",
     "text": [
      "/Users/marwa/anaconda3/lib/python3.7/runpy.py:193: UserWarning: [W011] It looks like you're calling displacy.serve from within a Jupyter notebook or a similar environment. This likely means you're already running a local web server, so there's no need to make displaCy start another one. Instead, you should be able to replace displacy.serve with displacy.render to show the visualization.\n",
      "  \"__main__\", mod_spec)\n"
     ]
    },
    {
     "data": {
      "text/html": [
       "<span class=\"tex2jax_ignore\"><!DOCTYPE html>\n",
       "<html lang=\"fr\">\n",
       "    <head>\n",
       "        <title>displaCy</title>\n",
       "    </head>\n",
       "\n",
       "    <body style=\"font-size: 16px; font-family: -apple-system, BlinkMacSystemFont, 'Segoe UI', Helvetica, Arial, sans-serif, 'Apple Color Emoji', 'Segoe UI Emoji', 'Segoe UI Symbol'; padding: 4rem 2rem; direction: ltr\">\n",
       "<figure style=\"margin-bottom: 6rem\">\n",
       "<div class=\"entities\" style=\"line-height: 2.5; direction: ltr\">\n",
       "<mark class=\"entity\" style=\"background: #ddd; padding: 0.45em 0.6em; margin: 0 0.25em; line-height: 1; border-radius: 0.35em;\">\n",
       "    Contract\n",
       "    <span style=\"font-size: 0.8em; font-weight: bold; line-height: 1; border-radius: 0.35em; text-transform: uppercase; vertical-align: middle; margin-left: 0.5rem\">MISC</span>\n",
       "</mark>\n",
       " notice  \n",
       "<mark class=\"entity\" style=\"background: #ddd; padding: 0.45em 0.6em; margin: 0 0.25em; line-height: 1; border-radius: 0.35em;\">\n",
       "    Supply of signaling devices and urban comfort and safety equipment  \n",
       "    <span style=\"font-size: 0.8em; font-weight: bold; line-height: 1; border-radius: 0.35em; text-transform: uppercase; vertical-align: middle; margin-left: 0.5rem\">MISC</span>\n",
       "</mark>\n",
       "\n",
       "<mark class=\"entity\" style=\"background: #ddd; padding: 0.45em 0.6em; margin: 0 0.25em; line-height: 1; border-radius: 0.35em;\">\n",
       "    The purpose of the contract that is the subject of this consultation is the supply of signaling devices and urban comfort and safety equipment necessary for the services of the city of nanterre\n",
       "    <span style=\"font-size: 0.8em; font-weight: bold; line-height: 1; border-radius: 0.35em; text-transform: uppercase; vertical-align: middle; margin-left: 0.5rem\">MISC</span>\n",
       "</mark>\n",
       ". The services are broken down into 3 lots treated as separate contracts. The contracts are planned for an initial period of one year from the date of notification. \n",
       "<mark class=\"entity\" style=\"background: #ddd; padding: 0.45em 0.6em; margin: 0 0.25em; line-height: 1; border-radius: 0.35em;\">\n",
       "    They are\n",
       "    <span style=\"font-size: 0.8em; font-weight: bold; line-height: 1; border-radius: 0.35em; text-transform: uppercase; vertical-align: middle; margin-left: 0.5rem\">MISC</span>\n",
       "</mark>\n",
       " tacitly renewable 3 times for a period of 1 year. Candidates can apply for one or more or all of the lots. \n",
       "<mark class=\"entity\" style=\"background: #ddd; padding: 0.45em 0.6em; margin: 0 0.25em; line-height: 1; border-radius: 0.35em;\">\n",
       "    It includes in particular the supply of vertical and permanent signage\n",
       "    <span style=\"font-size: 0.8em; font-weight: bold; line-height: 1; border-radius: 0.35em; text-transform: uppercase; vertical-align: middle; margin-left: 0.5rem\">MISC</span>\n",
       "</mark>\n",
       " temporary accessories urban comfort and safety equipment and urban wooden equipment.  \n",
       "<mark class=\"entity\" style=\"background: #ddd; padding: 0.45em 0.6em; margin: 0 0.25em; line-height: 1; border-radius: 0.35em;\">\n",
       "    This contract is divided into lots\n",
       "    <span style=\"font-size: 0.8em; font-weight: bold; line-height: 1; border-radius: 0.35em; text-transform: uppercase; vertical-align: middle; margin-left: 0.5rem\">MISC</span>\n",
       "</mark>\n",
       "  yes it is possible to submit tenders for all lots  \n",
       "<mark class=\"entity\" style=\"background: #ddd; padding: 0.45em 0.6em; margin: 0 0.25em; line-height: 1; border-radius: 0.35em;\">\n",
       "    Deadline for receipt of tenders or requests to participate\n",
       "    <span style=\"font-size: 0.8em; font-weight: bold; line-height: 1; border-radius: 0.35em; text-transform: uppercase; vertical-align: middle; margin-left: 0.5rem\">MISC</span>\n",
       "</mark>\n",
       "  \n",
       "<mark class=\"entity\" style=\"background: #7aecec; padding: 0.45em 0.6em; margin: 0 0.25em; line-height: 1; border-radius: 0.35em;\">\n",
       "    September\n",
       "    <span style=\"font-size: 0.8em; font-weight: bold; line-height: 1; border-radius: 0.35em; text-transform: uppercase; vertical-align: middle; margin-left: 0.5rem\">ORG</span>\n",
       "</mark>\n",
       " 18 2020   4 00 pm  \n",
       "<mark class=\"entity\" style=\"background: #ddd; padding: 0.45em 0.6em; margin: 0 0.25em; line-height: 1; border-radius: 0.35em;\">\n",
       "    Language  s  official  s  of the EU\n",
       "    <span style=\"font-size: 0.8em; font-weight: bold; line-height: 1; border-radius: 0.35em; text-transform: uppercase; vertical-align: middle; margin-left: 0.5rem\">MISC</span>\n",
       "</mark>\n",
       "  \n",
       "<mark class=\"entity\" style=\"background: #ddd; padding: 0.45em 0.6em; margin: 0 0.25em; line-height: 1; border-radius: 0.35em;\">\n",
       "    French  Avis\n",
       "    <span style=\"font-size: 0.8em; font-weight: bold; line-height: 1; border-radius: 0.35em; text-transform: uppercase; vertical-align: middle; margin-left: 0.5rem\">MISC</span>\n",
       "</mark>\n",
       " No 20 97113   publié le 08 08 2020   \n",
       "<mark class=\"entity\" style=\"background: #ddd; padding: 0.45em 0.6em; margin: 0 0.25em; line-height: 1; border-radius: 0.35em;\">\n",
       "    Dépt\n",
       "    <span style=\"font-size: 0.8em; font-weight: bold; line-height: 1; border-radius: 0.35em; text-transform: uppercase; vertical-align: middle; margin-left: 0.5rem\">MISC</span>\n",
       "</mark>\n",
       ".   92 Mairie de nanterre   Fourniture de dispositif de signalisation et d'équipements urbains de confort et de sécurité   \n",
       "<mark class=\"entity\" style=\"background: #7aecec; padding: 0.45em 0.6em; margin: 0 0.25em; line-height: 1; border-radius: 0.35em;\">\n",
       "    Avis de marché\n",
       "    <span style=\"font-size: 0.8em; font-weight: bold; line-height: 1; border-radius: 0.35em; text-transform: uppercase; vertical-align: middle; margin-left: 0.5rem\">ORG</span>\n",
       "</mark>\n",
       " Procédure Ouverte        Références complètes&amp;nbsp     \n",
       "<mark class=\"entity\" style=\"background: #7aecec; padding: 0.45em 0.6em; margin: 0 0.25em; line-height: 1; border-radius: 0.35em;\">\n",
       "    Avis\n",
       "    <span style=\"font-size: 0.8em; font-weight: bold; line-height: 1; border-radius: 0.35em; text-transform: uppercase; vertical-align: middle; margin-left: 0.5rem\">ORG</span>\n",
       "</mark>\n",
       "  20 97113        \n",
       "<mark class=\"entity\" style=\"background: #ddd; padding: 0.45em 0.6em; margin: 0 0.25em; line-height: 1; border-radius: 0.35em;\">\n",
       "    Référence de TED\n",
       "    <span style=\"font-size: 0.8em; font-weight: bold; line-height: 1; border-radius: 0.35em; text-transform: uppercase; vertical-align: middle; margin-left: 0.5rem\">MISC</span>\n",
       "</mark>\n",
       "     non disponible         Annonce            Département s  de publication   92Annonce No 20 97113I.II.III.IV.VI.AVIS DE \n",
       "<mark class=\"entity\" style=\"background: #ddd; padding: 0.45em 0.6em; margin: 0 0.25em; line-height: 1; border-radius: 0.35em;\">\n",
       "    MARCHÉDirective\n",
       "    <span style=\"font-size: 0.8em; font-weight: bold; line-height: 1; border-radius: 0.35em; text-transform: uppercase; vertical-align: middle; margin-left: 0.5rem\">MISC</span>\n",
       "</mark>\n",
       " 2014 24 \n",
       "<mark class=\"entity\" style=\"background: #ddd; padding: 0.45em 0.6em; margin: 0 0.25em; line-height: 1; border-radius: 0.35em;\">\n",
       "    UELe\n",
       "    <span style=\"font-size: 0.8em; font-weight: bold; line-height: 1; border-radius: 0.35em; text-transform: uppercase; vertical-align: middle; margin-left: 0.5rem\">MISC</span>\n",
       "</mark>\n",
       " présent avis constitue un appel à la concurrence \n",
       "<mark class=\"entity\" style=\"background: #ddd; padding: 0.45em 0.6em; margin: 0 0.25em; line-height: 1; border-radius: 0.35em;\">\n",
       "    Section I   \n",
       "    <span style=\"font-size: 0.8em; font-weight: bold; line-height: 1; border-radius: 0.35em; text-transform: uppercase; vertical-align: middle; margin-left: 0.5rem\">PER</span>\n",
       "</mark>\n",
       "Pouvoir adjudicateur                   I.1       NOM ET \n",
       "<mark class=\"entity\" style=\"background: #ff9561; padding: 0.45em 0.6em; margin: 0 0.25em; line-height: 1; border-radius: 0.35em;\">\n",
       "    ADRESSES                Mairie\n",
       "    <span style=\"font-size: 0.8em; font-weight: bold; line-height: 1; border-radius: 0.35em; text-transform: uppercase; vertical-align: middle; margin-left: 0.5rem\">LOC</span>\n",
       "</mark>\n",
       " de \n",
       "<mark class=\"entity\" style=\"background: #ff9561; padding: 0.45em 0.6em; margin: 0 0.25em; line-height: 1; border-radius: 0.35em;\">\n",
       "    Nanterre\n",
       "    <span style=\"font-size: 0.8em; font-weight: bold; line-height: 1; border-radius: 0.35em; text-transform: uppercase; vertical-align: middle; margin-left: 0.5rem\">LOC</span>\n",
       "</mark>\n",
       " 88 110 rue du 8 mai 1945 92000 \n",
       "<mark class=\"entity\" style=\"background: #ff9561; padding: 0.45em 0.6em; margin: 0 0.25em; line-height: 1; border-radius: 0.35em;\">\n",
       "    Nanterre F\n",
       "    <span style=\"font-size: 0.8em; font-weight: bold; line-height: 1; border-radius: 0.35em; text-transform: uppercase; vertical-align: middle; margin-left: 0.5rem\">LOC</span>\n",
       "</mark>\n",
       " Courriel   service.commandepublique mairie nanterre.fr  Code NUTS   FR105                Adresse s  internet   \n",
       "<mark class=\"entity\" style=\"background: #ddd; padding: 0.45em 0.6em; margin: 0 0.25em; line-height: 1; border-radius: 0.35em;\">\n",
       "    Adresse principale   http\n",
       "    <span style=\"font-size: 0.8em; font-weight: bold; line-height: 1; border-radius: 0.35em; text-transform: uppercase; vertical-align: middle; margin-left: 0.5rem\">MISC</span>\n",
       "</mark>\n",
       "   www.nanterre.fr Adresse du profil acheteur   https   marches.maximilien.fr  page entreprise.\n",
       "<mark class=\"entity\" style=\"background: #ddd; padding: 0.45em 0.6em; margin: 0 0.25em; line-height: 1; border-radius: 0.35em;\">\n",
       "    AccueilEntreprise\n",
       "    <span style=\"font-size: 0.8em; font-weight: bold; line-height: 1; border-radius: 0.35em; text-transform: uppercase; vertical-align: middle; margin-left: 0.5rem\">MISC</span>\n",
       "</mark>\n",
       "                \n",
       "<mark class=\"entity\" style=\"background: #ddd; padding: 0.45em 0.6em; margin: 0 0.25em; line-height: 1; border-radius: 0.35em;\">\n",
       "    I.2\n",
       "    <span style=\"font-size: 0.8em; font-weight: bold; line-height: 1; border-radius: 0.35em; text-transform: uppercase; vertical-align: middle; margin-left: 0.5rem\">MISC</span>\n",
       "</mark>\n",
       "       PROCÉDURE CONJOINTE                I.3       COMMUNICATION                Les documents du marché sont disponibles gratuitement en accès direct non restreint et complet à l'adresse   https   marches.maximilien.fr  page entreprise.\n",
       "<mark class=\"entity\" style=\"background: #ddd; padding: 0.45em 0.6em; margin: 0 0.25em; line-height: 1; border-radius: 0.35em;\">\n",
       "    AccueilEntreprise\n",
       "    <span style=\"font-size: 0.8em; font-weight: bold; line-height: 1; border-radius: 0.35em; text-transform: uppercase; vertical-align: middle; margin-left: 0.5rem\">MISC</span>\n",
       "</mark>\n",
       "                Adresse à laquelle des informations complémentaires peuvent être obtenues  le ou les point s  de contact susmentionné s                 Les offres ou les demandes de participation doivent être envoyées   par voie électronique à l'adresse   https   marches.maximilien.fr  page entreprise.\n",
       "<mark class=\"entity\" style=\"background: #7aecec; padding: 0.45em 0.6em; margin: 0 0.25em; line-height: 1; border-radius: 0.35em;\">\n",
       "    AccueilEntreprise\n",
       "    <span style=\"font-size: 0.8em; font-weight: bold; line-height: 1; border-radius: 0.35em; text-transform: uppercase; vertical-align: middle; margin-left: 0.5rem\">ORG</span>\n",
       "</mark>\n",
       "                I.4       TYPE DE POUVOIR \n",
       "<mark class=\"entity\" style=\"background: #7aecec; padding: 0.45em 0.6em; margin: 0 0.25em; line-height: 1; border-radius: 0.35em;\">\n",
       "    ADJUDICATEUR\n",
       "    <span style=\"font-size: 0.8em; font-weight: bold; line-height: 1; border-radius: 0.35em; text-transform: uppercase; vertical-align: middle; margin-left: 0.5rem\">ORG</span>\n",
       "</mark>\n",
       "                \n",
       "<mark class=\"entity\" style=\"background: #7aecec; padding: 0.45em 0.6em; margin: 0 0.25em; line-height: 1; border-radius: 0.35em;\">\n",
       "    Autorité régionale\n",
       "    <span style=\"font-size: 0.8em; font-weight: bold; line-height: 1; border-radius: 0.35em; text-transform: uppercase; vertical-align: middle; margin-left: 0.5rem\">ORG</span>\n",
       "</mark>\n",
       " ou locale                \n",
       "<mark class=\"entity\" style=\"background: #ddd; padding: 0.45em 0.6em; margin: 0 0.25em; line-height: 1; border-radius: 0.35em;\">\n",
       "    I.5\n",
       "    <span style=\"font-size: 0.8em; font-weight: bold; line-height: 1; border-radius: 0.35em; text-transform: uppercase; vertical-align: middle; margin-left: 0.5rem\">MISC</span>\n",
       "</mark>\n",
       "       ACTIVITÉ PRINCIPALE                \n",
       "<mark class=\"entity\" style=\"background: #7aecec; padding: 0.45em 0.6em; margin: 0 0.25em; line-height: 1; border-radius: 0.35em;\">\n",
       "    Services généraux\n",
       "    <span style=\"font-size: 0.8em; font-weight: bold; line-height: 1; border-radius: 0.35em; text-transform: uppercase; vertical-align: middle; margin-left: 0.5rem\">ORG</span>\n",
       "</mark>\n",
       " des administrations publiques              \n",
       "<mark class=\"entity\" style=\"background: #7aecec; padding: 0.45em 0.6em; margin: 0 0.25em; line-height: 1; border-radius: 0.35em;\">\n",
       "    Section II   Objet                   II.1       ÉTENDUE\n",
       "    <span style=\"font-size: 0.8em; font-weight: bold; line-height: 1; border-radius: 0.35em; text-transform: uppercase; vertical-align: middle; margin-left: 0.5rem\">ORG</span>\n",
       "</mark>\n",
       " DU MARCHÉ                \n",
       "<mark class=\"entity\" style=\"background: #ddd; padding: 0.45em 0.6em; margin: 0 0.25em; line-height: 1; border-radius: 0.35em;\">\n",
       "    II.1.1\n",
       "    <span style=\"font-size: 0.8em; font-weight: bold; line-height: 1; border-radius: 0.35em; text-transform: uppercase; vertical-align: middle; margin-left: 0.5rem\">MISC</span>\n",
       "</mark>\n",
       "       Intitulé   \n",
       "<mark class=\"entity\" style=\"background: #ff9561; padding: 0.45em 0.6em; margin: 0 0.25em; line-height: 1; border-radius: 0.35em;\">\n",
       "    Fourniture\n",
       "    <span style=\"font-size: 0.8em; font-weight: bold; line-height: 1; border-radius: 0.35em; text-transform: uppercase; vertical-align: middle; margin-left: 0.5rem\">LOC</span>\n",
       "</mark>\n",
       " de dispositif de signalisation et d'équipements urbains de confort et de sécurité     </div>\n",
       "</figure>\n",
       "</body>\n",
       "</html></span>"
      ],
      "text/plain": [
       "<IPython.core.display.HTML object>"
      ]
     },
     "metadata": {},
     "output_type": "display_data"
    },
    {
     "name": "stdout",
     "output_type": "stream",
     "text": [
      "\n",
      "Using the 'ent' visualizer\n",
      "Serving on http://0.0.0.0:5000 ...\n",
      "\n",
      "Shutting down server on port 5000.\n"
     ]
    }
   ],
   "source": [
    "displacy.serve(doc, style=\"ent\")"
   ]
  },
  {
   "cell_type": "code",
   "execution_count": null,
   "metadata": {
    "ExecuteTime": {
     "end_time": "2020-09-10T22:02:42.176959Z",
     "start_time": "2020-09-10T22:01:49.472Z"
    }
   },
   "outputs": [],
   "source": [
    "##\n"
   ]
  },
  {
   "cell_type": "code",
   "execution_count": 29,
   "metadata": {
    "ExecuteTime": {
     "end_time": "2020-09-10T22:14:29.828407Z",
     "start_time": "2020-09-10T22:14:29.816194Z"
    }
   },
   "outputs": [
    {
     "name": "stdout",
     "output_type": "stream",
     "text": [
      "Rasmus Rasmus\n",
      "Luckow Luckow\n",
      "- -\n",
      "Nielsen Nielsen\n",
      "is is\n",
      "a a\n",
      "good good\n",
      "man man\n"
     ]
    }
   ],
   "source": [
    "text = offres_fr[\"text_clean\"][4]\n",
    "doc = nlpMulti(\"Rasmus Luckow-Nielsen is a good man\")"
   ]
  },
  {
   "cell_type": "code",
   "execution_count": null,
   "metadata": {
    "ExecuteTime": {
     "end_time": "2020-09-10T21:51:23.910036Z",
     "start_time": "2020-09-10T21:51:15.085039Z"
    }
   },
   "outputs": [],
   "source": [
    "\n",
    ")"
   ]
  },
  {
   "cell_type": "code",
   "execution_count": null,
   "metadata": {
    "ExecuteTime": {
     "end_time": "2020-09-10T22:02:42.183984Z",
     "start_time": "2020-09-10T22:01:49.474Z"
    }
   },
   "outputs": [],
   "source": []
  }
 ],
 "metadata": {
  "hide_input": false,
  "kernelspec": {
   "display_name": "Python 3",
   "language": "python",
   "name": "python3"
  },
  "language_info": {
   "codemirror_mode": {
    "name": "ipython",
    "version": 3
   },
   "file_extension": ".py",
   "mimetype": "text/x-python",
   "name": "python",
   "nbconvert_exporter": "python",
   "pygments_lexer": "ipython3",
   "version": "3.7.3"
  },
  "toc": {
   "base_numbering": 1,
   "nav_menu": {},
   "number_sections": true,
   "sideBar": true,
   "skip_h1_title": false,
   "title_cell": "Table of Contents",
   "title_sidebar": "Contents",
   "toc_cell": false,
   "toc_position": {},
   "toc_section_display": true,
   "toc_window_display": false
  }
 },
 "nbformat": 4,
 "nbformat_minor": 2
}
